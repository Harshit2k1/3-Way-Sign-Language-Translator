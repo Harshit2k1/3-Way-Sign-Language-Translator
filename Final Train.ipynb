{
  "cells": [
    {
      "cell_type": "code",
      "execution_count": null,
      "metadata": {
        "colab": {
          "base_uri": "https://localhost:8080/"
        },
        "id": "L2-ORStBNM3A",
        "outputId": "a1e7f27e-9318-4d89-abe8-99bd9c572444"
      },
      "outputs": [
        {
          "name": "stdout",
          "output_type": "stream",
          "text": [
            "Drive already mounted at /content/drive; to attempt to forcibly remount, call drive.mount(\"/content/drive\", force_remount=True).\n"
          ]
        }
      ],
      "source": [
        "from google.colab import drive\n",
        "drive.mount('/content/drive')\n"
      ]
    },
    {
      "cell_type": "code",
      "execution_count": null,
      "metadata": {
        "id": "Ndi9XQF4NNNH"
      },
      "outputs": [],
      "source": [
        "import zipfile\n",
        "\n",
        "with zipfile.ZipFile('/content/drive/MyDrive/ASL/archive.zip', 'r') as zip_ref:\n",
        "    zip_ref.extractall('/content/asl')\n"
      ]
    },
    {
      "cell_type": "code",
      "execution_count": null,
      "metadata": {
        "id": "TFpFmIs8EgJy"
      },
      "outputs": [],
      "source": [
        "import os\n",
        "import numpy as np\n",
        "from tensorflow.keras.preprocessing.image import ImageDataGenerator\n",
        "from tensorflow.keras.models import Sequential\n",
        "from tensorflow.keras.layers import Conv2D, MaxPooling2D, Flatten, Dense, Convolution2D, MaxPooling2D, Flatten, Dense , Dropout\n",
        "from keras.callbacks import ModelCheckpoint\n",
        "\n"
      ]
    },
    {
      "cell_type": "code",
      "execution_count": null,
      "metadata": {
        "id": "yNeue-E-UYYF"
      },
      "outputs": [],
      "source": [
        "from tensorflow.keras.utils import to_categorical\n"
      ]
    },
    {
      "cell_type": "code",
      "execution_count": null,
      "metadata": {
        "id": "Px-_VInxLnJv"
      },
      "outputs": [],
      "source": [
        "import cv2,os\n"
      ]
    },
    {
      "cell_type": "code",
      "execution_count": null,
      "metadata": {
        "id": "5YHXGdsyEeYO"
      },
      "outputs": [],
      "source": [
        "\n",
        "# Define the path to your dataset\n",
        "dataset_path = '/content/asl/'\n",
        "\n"
      ]
    },
    {
      "cell_type": "code",
      "execution_count": null,
      "metadata": {
        "colab": {
          "base_uri": "https://localhost:8080/"
        },
        "id": "krHF-ApyPwCT",
        "outputId": "a5619ef6-ea13-488f-ba47-b2506ac0dd1f"
      },
      "outputs": [
        {
          "name": "stdout",
          "output_type": "stream",
          "text": [
            "{'test': 0, 'train': 1}\n",
            "['test', 'train']\n",
            "[0, 1]\n"
          ]
        }
      ],
      "source": [
        "categories=os.listdir(dataset_path)\n",
        "labels=[i for i in range(len(categories))]\n",
        "\n",
        "label_dict=dict(zip(categories,labels)) #empty dictionary\n",
        "\n",
        "print(label_dict)\n",
        "print(categories)\n",
        "print(labels)"
      ]
    },
    {
      "cell_type": "code",
      "execution_count": null,
      "metadata": {
        "colab": {
          "base_uri": "https://localhost:8080/"
        },
        "id": "5tBES3D9P6l4",
        "outputId": "aabd3847-42f5-410b-ddf0-59e851f5ac0f"
      },
      "outputs": [
        {
          "name": "stdout",
          "output_type": "stream",
          "text": [
            "['1', 'w', '0', '6', 'd', '3', 'u', 'p', 'x', '5', '8', '4', 'z', '7', 't', 'i', 'c', 'h', 'o', 'k', '2', 'n', 'l', 'v', 'b', 'y', 'f', 'm', 'g', 's', 'r', 'e', 'a', '9', 'j', 'q']\n",
            "[0, 1, 2, 3, 4, 5, 6, 7, 8, 9, 10, 11, 12, 13, 14, 15, 16, 17, 18, 19, 20, 21, 22, 23, 24, 25, 26, 27, 28, 29, 30, 31, 32, 33, 34, 35]\n"
          ]
        }
      ],
      "source": [
        "data_path='/content/asl/train'\n",
        "classes_path=os.listdir(data_path)\n",
        "classesf=os.listdir(data_path)\n",
        "print(classesf)\n",
        "labels_classes=[i for i in range(len(classesf))]\n",
        "print(labels_classes)"
      ]
    },
    {
      "cell_type": "code",
      "execution_count": null,
      "metadata": {
        "id": "BihH1tpoRUiP"
      },
      "outputs": [],
      "source": [
        "data_path='/content/asl/'\n"
      ]
    },
    {
      "cell_type": "code",
      "execution_count": null,
      "metadata": {
        "colab": {
          "base_uri": "https://localhost:8080/"
        },
        "id": "fSL-aMkbRaRl",
        "outputId": "6f2b0a7f-23ac-4839-f127-d361df09cccd"
      },
      "outputs": [
        {
          "name": "stdout",
          "output_type": "stream",
          "text": [
            "{'1': 0, 'w': 1, '0': 2, '6': 3, 'd': 4, '3': 5, 'u': 6, 'p': 7, 'x': 8, '5': 9, '8': 10, '4': 11, 'z': 12, '7': 13, 't': 14, 'i': 15, 'c': 16, 'h': 17, 'o': 18, 'k': 19, '2': 20, 'n': 21, 'l': 22, 'v': 23, 'b': 24, 'y': 25, 'f': 26, 'm': 27, 'g': 28, 's': 29, 'r': 30, 'e': 31, 'a': 32, '9': 33, 'j': 34, 'q': 35}\n"
          ]
        }
      ],
      "source": [
        "label_classes_dict=dict(zip(classesf,labels_classes))\n",
        "print(label_classes_dict)"
      ]
    },
    {
      "cell_type": "code",
      "execution_count": null,
      "metadata": {
        "colab": {
          "base_uri": "https://localhost:8080/"
        },
        "id": "sQ6AtYcXRahc",
        "outputId": "70c77eac-f446-4677-fa87-c52f38fd7f38"
      },
      "outputs": [
        {
          "name": "stdout",
          "output_type": "stream",
          "text": [
            "/content/asl/test\n",
            "['1', 'w', '0', '6', 'd', '3', 'u', 'p', 'x', '5', '8', '4', 'z', '7', 't', 'i', 'c', 'h', 'o', 'k', '2', 'n', 'l', 'v', 'b', 'y', 'f', 'm', 'g', 's', 'r', 'e', 'a', '9', 'j', 'q']\n",
            "/content/asl/test/1\n",
            "/content/asl/test/w\n",
            "/content/asl/test/0\n",
            "/content/asl/test/6\n",
            "/content/asl/test/d\n",
            "/content/asl/test/3\n",
            "/content/asl/test/u\n",
            "/content/asl/test/p\n",
            "/content/asl/test/x\n",
            "/content/asl/test/5\n",
            "/content/asl/test/8\n",
            "/content/asl/test/4\n",
            "/content/asl/test/z\n",
            "/content/asl/test/7\n",
            "/content/asl/test/t\n",
            "/content/asl/test/i\n",
            "/content/asl/test/c\n",
            "/content/asl/test/h\n",
            "/content/asl/test/o\n",
            "/content/asl/test/k\n",
            "/content/asl/test/2\n",
            "/content/asl/test/n\n",
            "/content/asl/test/l\n",
            "/content/asl/test/v\n",
            "/content/asl/test/b\n",
            "/content/asl/test/y\n",
            "/content/asl/test/f\n",
            "/content/asl/test/m\n",
            "/content/asl/test/g\n",
            "/content/asl/test/s\n",
            "/content/asl/test/r\n",
            "/content/asl/test/e\n",
            "/content/asl/test/a\n",
            "/content/asl/test/9\n",
            "/content/asl/test/j\n",
            "/content/asl/test/q\n",
            "/content/asl/train\n",
            "['1', 'w', '0', '6', 'd', '3', 'u', 'p', 'x', '5', '8', '4', 'z', '7', 't', 'i', 'c', 'h', 'o', 'k', '2', 'n', 'l', 'v', 'b', 'y', 'f', 'm', 'g', 's', 'r', 'e', 'a', '9', 'j', 'q']\n",
            "/content/asl/train/1\n",
            "/content/asl/train/w\n",
            "/content/asl/train/0\n",
            "/content/asl/train/6\n",
            "/content/asl/train/d\n",
            "/content/asl/train/3\n",
            "/content/asl/train/u\n",
            "/content/asl/train/p\n",
            "/content/asl/train/x\n",
            "/content/asl/train/5\n",
            "/content/asl/train/8\n",
            "/content/asl/train/4\n",
            "/content/asl/train/z\n",
            "/content/asl/train/7\n",
            "/content/asl/train/t\n",
            "/content/asl/train/i\n",
            "/content/asl/train/c\n",
            "/content/asl/train/h\n",
            "/content/asl/train/o\n",
            "/content/asl/train/k\n",
            "/content/asl/train/2\n",
            "/content/asl/train/n\n",
            "/content/asl/train/l\n",
            "/content/asl/train/v\n",
            "/content/asl/train/b\n",
            "/content/asl/train/y\n",
            "/content/asl/train/f\n",
            "/content/asl/train/m\n",
            "/content/asl/train/g\n",
            "/content/asl/train/s\n",
            "/content/asl/train/r\n",
            "/content/asl/train/e\n",
            "/content/asl/train/a\n",
            "/content/asl/train/9\n",
            "/content/asl/train/j\n",
            "/content/asl/train/q\n"
          ]
        }
      ],
      "source": [
        "img_size=128\n",
        "data=[]\n",
        "target=[]\n",
        "c=0\n",
        "minValue = 70\n",
        "for category in categories:\n",
        "\n",
        "    cat_path=os.path.join(data_path,category)\n",
        "    print(cat_path)\n",
        "    cat_names=os.listdir(cat_path)\n",
        "    print(cat_names)\n",
        "    for classes in cat_names:\n",
        "        folder_path=os.path.join(data_path,category,classes)\n",
        "        print(folder_path)\n",
        "        img_names=os.listdir(folder_path)\n",
        "        for img_name in img_names:\n",
        "            img_path=os.path.join(folder_path,img_name)\n",
        "            img=cv2.imread(img_path)\n",
        "\n",
        "            try:\n",
        "                gray=cv2.cvtColor(img,cv2.COLOR_BGR2GRAY)\n",
        "                blur = cv2.GaussianBlur(gray,(5,5),2)\n",
        "                th3 = cv2.adaptiveThreshold(blur,255,cv2.ADAPTIVE_THRESH_GAUSSIAN_C,cv2.THRESH_BINARY_INV,11,2)\n",
        "                ret, res = cv2.threshold(th3, minValue, 255, cv2.THRESH_BINARY_INV+cv2.THRESH_OTSU)\n",
        "\n",
        "\n",
        "                resized=cv2.resize(res,(img_size,img_size))\n",
        "\n",
        "\n",
        "                data.append(resized)\n",
        "                target.append(label_classes_dict[classes])\n",
        "            except Exception as e:\n",
        "                print('Exception:',e)\n",
        "\n",
        "\n",
        "\n"
      ]
    },
    {
      "cell_type": "code",
      "execution_count": null,
      "metadata": {
        "colab": {
          "base_uri": "https://localhost:8080/"
        },
        "id": "udjP53m5Rk-K",
        "outputId": "a85346a1-2f12-457b-b31c-947c2ddc2f94"
      },
      "outputs": [
        {
          "data": {
            "text/plain": [
              "(2514, 128, 128)"
            ]
          },
          "execution_count": 23,
          "metadata": {},
          "output_type": "execute_result"
        }
      ],
      "source": [
        "datanp=np.array(data)\n",
        "datanp.shape"
      ]
    },
    {
      "cell_type": "code",
      "execution_count": null,
      "metadata": {
        "colab": {
          "base_uri": "https://localhost:8080/"
        },
        "id": "9wXdy106RnLc",
        "outputId": "0b901513-6580-4532-a285-1352344720e3"
      },
      "outputs": [
        {
          "data": {
            "text/plain": [
              "(2514,)"
            ]
          },
          "execution_count": 24,
          "metadata": {},
          "output_type": "execute_result"
        }
      ],
      "source": [
        "targetnp=np.array(target)\n",
        "\n",
        "targetnp.shape"
      ]
    },
    {
      "cell_type": "code",
      "execution_count": null,
      "metadata": {
        "colab": {
          "base_uri": "https://localhost:8080/"
        },
        "id": "_VronesARpWs",
        "outputId": "f50fa96e-814e-4656-fa8e-13ce6970b5b0"
      },
      "outputs": [
        {
          "data": {
            "text/plain": [
              "(2514, 36)"
            ]
          },
          "execution_count": 25,
          "metadata": {},
          "output_type": "execute_result"
        }
      ],
      "source": [
        "data=np.array(data)/255.0\n",
        "data=np.reshape(data,(data.shape[0],img_size,img_size,1))\n",
        "target=np.array(target)\n",
        "\n",
        "\n",
        "new_target=to_categorical(target)\n",
        "new_target.shape"
      ]
    },
    {
      "cell_type": "code",
      "execution_count": null,
      "metadata": {
        "id": "Nt2ZabaTRvUm"
      },
      "outputs": [],
      "source": [
        "np.save('data_img',data)\n",
        "np.save('target',new_target)"
      ]
    },
    {
      "cell_type": "code",
      "execution_count": null,
      "metadata": {
        "id": "DfXQ8tRSRvnC"
      },
      "outputs": [],
      "source": [
        "data=np.load('data_img.npy')\n",
        "target=np.load('target.npy')"
      ]
    },
    {
      "cell_type": "code",
      "execution_count": null,
      "metadata": {
        "id": "gbDNQymsRywe"
      },
      "outputs": [],
      "source": [
        "from sklearn.model_selection import train_test_split\n",
        "train_data,test_data,train_target,test_target=train_test_split(data,new_target,test_size=0.2)"
      ]
    },
    {
      "cell_type": "code",
      "execution_count": null,
      "metadata": {
        "colab": {
          "base_uri": "https://localhost:8080/"
        },
        "id": "vX4dUZJOR05_",
        "outputId": "afa67c0d-5dc3-4bd1-d82a-e94000bdf91c"
      },
      "outputs": [
        {
          "name": "stdout",
          "output_type": "stream",
          "text": [
            "Model: \"sequential_1\"\n",
            "_________________________________________________________________\n",
            " Layer (type)                Output Shape              Param #   \n",
            "=================================================================\n",
            " conv2d_2 (Conv2D)           (None, 126, 126, 32)      320       \n",
            "                                                                 \n",
            " max_pooling2d_2 (MaxPooling  (None, 63, 63, 32)       0         \n",
            " 2D)                                                             \n",
            "                                                                 \n",
            " conv2d_3 (Conv2D)           (None, 61, 61, 32)        9248      \n",
            "                                                                 \n",
            " max_pooling2d_3 (MaxPooling  (None, 30, 30, 32)       0         \n",
            " 2D)                                                             \n",
            "                                                                 \n",
            " flatten_1 (Flatten)         (None, 28800)             0         \n",
            "                                                                 \n",
            " dense_4 (Dense)             (None, 128)               3686528   \n",
            "                                                                 \n",
            " dropout_2 (Dropout)         (None, 128)               0         \n",
            "                                                                 \n",
            " dense_5 (Dense)             (None, 96)                12384     \n",
            "                                                                 \n",
            " dropout_3 (Dropout)         (None, 96)                0         \n",
            "                                                                 \n",
            " dense_6 (Dense)             (None, 64)                6208      \n",
            "                                                                 \n",
            " dense_7 (Dense)             (None, 36)                2340      \n",
            "                                                                 \n",
            "=================================================================\n",
            "Total params: 3,717,028\n",
            "Trainable params: 3,717,028\n",
            "Non-trainable params: 0\n",
            "_________________________________________________________________\n"
          ]
        }
      ],
      "source": [
        "from keras.models import Sequential\n",
        "from keras.layers import Convolution2D\n",
        "from keras.layers import MaxPooling2D\n",
        "from keras.layers import Flatten\n",
        "from keras.layers import Dense , Dropout\n",
        "import os\n",
        "os.environ[\"CUDA_VISIBLE_DEVICES\"] = \"1\" #https://catalyst-team.github.io/catalyst/v21.03/faq/dp.html\n",
        "sz = 128\n",
        "# Step 1 - Building the CNN\n",
        "\n",
        "# Initializing the CNN\n",
        "classifier = Sequential()\n",
        "\n",
        "# First convolution layer and pooling\n",
        "classifier.add(Convolution2D(32, (3, 3), input_shape=(sz, sz, 1), activation='relu'))\n",
        "classifier.add(MaxPooling2D(pool_size=(2, 2)))\n",
        "# Second convolution layer and pooling\n",
        "classifier.add(Convolution2D(32, (3, 3), activation='relu'))\n",
        "# input_shape is going to be the pooled feature maps from the previous convolution layer\n",
        "classifier.add(MaxPooling2D(pool_size=(2, 2)))\n",
        "\n",
        "\n",
        "# Flattening the layers\n",
        "classifier.add(Flatten())\n",
        "\n",
        "# Adding a fully connected layer\n",
        "classifier.add(Dense(units=128, activation='relu'))\n",
        "classifier.add(Dropout(0.40))\n",
        "classifier.add(Dense(units=96, activation='relu'))\n",
        "classifier.add(Dropout(0.40))\n",
        "classifier.add(Dense(units=64, activation='relu'))\n",
        "classifier.add(Dense(units=36, activation='softmax')) # softmax for more than 2\n",
        "\n",
        "# Compiling the CNN\n",
        "classifier.compile(optimizer='adam', loss='categorical_crossentropy', metrics=['accuracy']) # categorical_crossentropy for more than 2\n",
        "\n",
        "\n",
        "# Step 2 - Preparing the train/test data and training the model\n",
        "classifier.summary()"
      ]
    },
    {
      "cell_type": "code",
      "execution_count": null,
      "metadata": {
        "colab": {
          "base_uri": "https://localhost:8080/"
        },
        "id": "8iu_ZKWGhjwQ",
        "outputId": "d39e51c6-dc41-4472-df68-1319e86b0f2b"
      },
      "outputs": [
        {
          "name": "stdout",
          "output_type": "stream",
          "text": [
            "(2011, 128, 128, 1)\n"
          ]
        }
      ],
      "source": [
        "print(train_data.shape)"
      ]
    },
    {
      "cell_type": "code",
      "execution_count": null,
      "metadata": {
        "colab": {
          "base_uri": "https://localhost:8080/"
        },
        "id": "MioZnE6YR3mx",
        "outputId": "064b1f6c-1088-4ca1-e6ed-a58c3de200d0"
      },
      "outputs": [
        {
          "name": "stdout",
          "output_type": "stream",
          "text": [
            "Epoch 1/100\n",
            "44/44 [==============================] - 47s 1s/step - loss: 0.4234 - accuracy: 0.8458 - val_loss: 0.2737 - val_accuracy: 0.9156\n",
            "Epoch 2/100\n",
            "44/44 [==============================] - 36s 824ms/step - loss: 0.3647 - accuracy: 0.8593 - val_loss: 0.2709 - val_accuracy: 0.9156\n",
            "Epoch 3/100\n",
            "44/44 [==============================] - 36s 820ms/step - loss: 0.3877 - accuracy: 0.8678 - val_loss: 0.2663 - val_accuracy: 0.9106\n",
            "Epoch 4/100\n",
            "44/44 [==============================] - 37s 851ms/step - loss: 0.3721 - accuracy: 0.8770 - val_loss: 0.2804 - val_accuracy: 0.9056\n",
            "Epoch 5/100\n",
            "44/44 [==============================] - 33s 748ms/step - loss: 0.3202 - accuracy: 0.8856 - val_loss: 0.2758 - val_accuracy: 0.9007\n",
            "Epoch 6/100\n",
            "44/44 [==============================] - 36s 814ms/step - loss: 0.3699 - accuracy: 0.8699 - val_loss: 0.2689 - val_accuracy: 0.9189\n",
            "Epoch 7/100\n",
            "44/44 [==============================] - 35s 806ms/step - loss: 0.3462 - accuracy: 0.8884 - val_loss: 0.2623 - val_accuracy: 0.9106\n",
            "Epoch 8/100\n",
            "44/44 [==============================] - 37s 831ms/step - loss: 0.3568 - accuracy: 0.8792 - val_loss: 0.2660 - val_accuracy: 0.9189\n",
            "Epoch 9/100\n",
            "44/44 [==============================] - 38s 863ms/step - loss: 0.3101 - accuracy: 0.8813 - val_loss: 0.2290 - val_accuracy: 0.9288\n",
            "Epoch 10/100\n",
            "44/44 [==============================] - 35s 793ms/step - loss: 0.2826 - accuracy: 0.9026 - val_loss: 0.2391 - val_accuracy: 0.9222\n",
            "Epoch 11/100\n",
            "44/44 [==============================] - 38s 855ms/step - loss: 0.3420 - accuracy: 0.8849 - val_loss: 0.2286 - val_accuracy: 0.9371\n",
            "Epoch 12/100\n",
            "44/44 [==============================] - 37s 858ms/step - loss: 0.2773 - accuracy: 0.9097 - val_loss: 0.2745 - val_accuracy: 0.9205\n",
            "Epoch 13/100\n",
            "44/44 [==============================] - 33s 745ms/step - loss: 0.2568 - accuracy: 0.9147 - val_loss: 0.3014 - val_accuracy: 0.9123\n",
            "Epoch 14/100\n",
            "44/44 [==============================] - 38s 856ms/step - loss: 0.2433 - accuracy: 0.9154 - val_loss: 0.2660 - val_accuracy: 0.9288\n",
            "Epoch 15/100\n",
            "44/44 [==============================] - 35s 790ms/step - loss: 0.2918 - accuracy: 0.9041 - val_loss: 0.2489 - val_accuracy: 0.9238\n",
            "Epoch 16/100\n",
            "44/44 [==============================] - 35s 783ms/step - loss: 0.2412 - accuracy: 0.9126 - val_loss: 0.2543 - val_accuracy: 0.9288\n",
            "Epoch 17/100\n",
            "44/44 [==============================] - 36s 818ms/step - loss: 0.2627 - accuracy: 0.9133 - val_loss: 0.2636 - val_accuracy: 0.9205\n",
            "Epoch 18/100\n",
            "44/44 [==============================] - 33s 750ms/step - loss: 0.2294 - accuracy: 0.9168 - val_loss: 0.2549 - val_accuracy: 0.9222\n",
            "Epoch 19/100\n",
            "44/44 [==============================] - 36s 818ms/step - loss: 0.2412 - accuracy: 0.9190 - val_loss: 0.2720 - val_accuracy: 0.9123\n",
            "Epoch 20/100\n",
            "44/44 [==============================] - 32s 734ms/step - loss: 0.2205 - accuracy: 0.9240 - val_loss: 0.2502 - val_accuracy: 0.9238\n",
            "Epoch 21/100\n",
            "44/44 [==============================] - 37s 855ms/step - loss: 0.2167 - accuracy: 0.9311 - val_loss: 0.2633 - val_accuracy: 0.9205\n",
            "Epoch 22/100\n",
            "44/44 [==============================] - 35s 801ms/step - loss: 0.2112 - accuracy: 0.9225 - val_loss: 0.2561 - val_accuracy: 0.9321\n",
            "Epoch 23/100\n",
            "44/44 [==============================] - 39s 888ms/step - loss: 0.2244 - accuracy: 0.9240 - val_loss: 0.2666 - val_accuracy: 0.9238\n",
            "Epoch 24/100\n",
            "44/44 [==============================] - 37s 837ms/step - loss: 0.2133 - accuracy: 0.9225 - val_loss: 0.2788 - val_accuracy: 0.9222\n",
            "Epoch 25/100\n",
            "44/44 [==============================] - 33s 741ms/step - loss: 0.2089 - accuracy: 0.9268 - val_loss: 0.2439 - val_accuracy: 0.9222\n",
            "Epoch 26/100\n",
            "44/44 [==============================] - 38s 876ms/step - loss: 0.2029 - accuracy: 0.9303 - val_loss: 0.2742 - val_accuracy: 0.9205\n",
            "Epoch 27/100\n",
            "44/44 [==============================] - 32s 733ms/step - loss: 0.1984 - accuracy: 0.9332 - val_loss: 0.2771 - val_accuracy: 0.9288\n",
            "Epoch 28/100\n",
            "44/44 [==============================] - 37s 848ms/step - loss: 0.1954 - accuracy: 0.9311 - val_loss: 0.2788 - val_accuracy: 0.9139\n",
            "Epoch 29/100\n",
            "44/44 [==============================] - 35s 790ms/step - loss: 0.1997 - accuracy: 0.9353 - val_loss: 0.2658 - val_accuracy: 0.9172\n",
            "Epoch 30/100\n",
            "44/44 [==============================] - 35s 795ms/step - loss: 0.2312 - accuracy: 0.9211 - val_loss: 0.2619 - val_accuracy: 0.9222\n",
            "Epoch 31/100\n",
            "44/44 [==============================] - 36s 832ms/step - loss: 0.2257 - accuracy: 0.9254 - val_loss: 0.2675 - val_accuracy: 0.9205\n",
            "Epoch 32/100\n",
            "44/44 [==============================] - 34s 765ms/step - loss: 0.1762 - accuracy: 0.9367 - val_loss: 0.2480 - val_accuracy: 0.9305\n",
            "Epoch 33/100\n",
            "44/44 [==============================] - 38s 864ms/step - loss: 0.1854 - accuracy: 0.9396 - val_loss: 0.2639 - val_accuracy: 0.9222\n",
            "Epoch 34/100\n",
            "44/44 [==============================] - 32s 738ms/step - loss: 0.1934 - accuracy: 0.9353 - val_loss: 0.2837 - val_accuracy: 0.9272\n",
            "Epoch 35/100\n",
            "44/44 [==============================] - 37s 842ms/step - loss: 0.1509 - accuracy: 0.9481 - val_loss: 0.2790 - val_accuracy: 0.9222\n",
            "Epoch 36/100\n",
            "44/44 [==============================] - 34s 770ms/step - loss: 0.2099 - accuracy: 0.9339 - val_loss: 0.2516 - val_accuracy: 0.9288\n",
            "Epoch 37/100\n",
            "44/44 [==============================] - 36s 815ms/step - loss: 0.2125 - accuracy: 0.9240 - val_loss: 0.2552 - val_accuracy: 0.9272\n",
            "Epoch 38/100\n",
            "44/44 [==============================] - 35s 807ms/step - loss: 0.1769 - accuracy: 0.9375 - val_loss: 0.2860 - val_accuracy: 0.9205\n",
            "Epoch 39/100\n",
            "44/44 [==============================] - 37s 844ms/step - loss: 0.1713 - accuracy: 0.9467 - val_loss: 0.2451 - val_accuracy: 0.9288\n",
            "Epoch 40/100\n",
            "44/44 [==============================] - 40s 914ms/step - loss: 0.1540 - accuracy: 0.9481 - val_loss: 0.2560 - val_accuracy: 0.9321\n",
            "Epoch 41/100\n",
            "44/44 [==============================] - 36s 815ms/step - loss: 0.1800 - accuracy: 0.9403 - val_loss: 0.2872 - val_accuracy: 0.9238\n",
            "Epoch 42/100\n",
            "44/44 [==============================] - 35s 783ms/step - loss: 0.1688 - accuracy: 0.9439 - val_loss: 0.2578 - val_accuracy: 0.9338\n",
            "Epoch 43/100\n",
            "44/44 [==============================] - 42s 973ms/step - loss: 0.1649 - accuracy: 0.9439 - val_loss: 0.2651 - val_accuracy: 0.9255\n",
            "Epoch 44/100\n",
            "44/44 [==============================] - 33s 740ms/step - loss: 0.1682 - accuracy: 0.9453 - val_loss: 0.2467 - val_accuracy: 0.9321\n",
            "Epoch 45/100\n",
            "44/44 [==============================] - 37s 848ms/step - loss: 0.1726 - accuracy: 0.9460 - val_loss: 0.2571 - val_accuracy: 0.9338\n",
            "Epoch 46/100\n",
            "44/44 [==============================] - 35s 797ms/step - loss: 0.1730 - accuracy: 0.9382 - val_loss: 0.2697 - val_accuracy: 0.9288\n",
            "Epoch 47/100\n",
            "44/44 [==============================] - 36s 817ms/step - loss: 0.1406 - accuracy: 0.9488 - val_loss: 0.2350 - val_accuracy: 0.9321\n",
            "Epoch 48/100\n",
            "44/44 [==============================] - 35s 804ms/step - loss: 0.1733 - accuracy: 0.9424 - val_loss: 0.2545 - val_accuracy: 0.9272\n",
            "Epoch 49/100\n",
            "44/44 [==============================] - 34s 770ms/step - loss: 0.1656 - accuracy: 0.9417 - val_loss: 0.2741 - val_accuracy: 0.9272\n",
            "Epoch 50/100\n",
            "44/44 [==============================] - 35s 810ms/step - loss: 0.1516 - accuracy: 0.9510 - val_loss: 0.2712 - val_accuracy: 0.9321\n",
            "Epoch 51/100\n",
            "44/44 [==============================] - 34s 773ms/step - loss: 0.1214 - accuracy: 0.9595 - val_loss: 0.3041 - val_accuracy: 0.9272\n",
            "Epoch 52/100\n",
            "44/44 [==============================] - 37s 839ms/step - loss: 0.1103 - accuracy: 0.9638 - val_loss: 0.3106 - val_accuracy: 0.9205\n",
            "Epoch 53/100\n",
            "44/44 [==============================] - 35s 794ms/step - loss: 0.1376 - accuracy: 0.9574 - val_loss: 0.2821 - val_accuracy: 0.9305\n",
            "Epoch 54/100\n",
            "44/44 [==============================] - 36s 818ms/step - loss: 0.1485 - accuracy: 0.9446 - val_loss: 0.2925 - val_accuracy: 0.9205\n",
            "Epoch 55/100\n",
            "44/44 [==============================] - 35s 796ms/step - loss: 0.1212 - accuracy: 0.9609 - val_loss: 0.2888 - val_accuracy: 0.9255\n",
            "Epoch 56/100\n",
            "44/44 [==============================] - 35s 797ms/step - loss: 0.1541 - accuracy: 0.9517 - val_loss: 0.2561 - val_accuracy: 0.9371\n",
            "Epoch 57/100\n",
            "44/44 [==============================] - 36s 832ms/step - loss: 0.1407 - accuracy: 0.9566 - val_loss: 0.3021 - val_accuracy: 0.9238\n",
            "Epoch 58/100\n",
            "44/44 [==============================] - 36s 820ms/step - loss: 0.1250 - accuracy: 0.9531 - val_loss: 0.3154 - val_accuracy: 0.9238\n",
            "Epoch 59/100\n",
            "44/44 [==============================] - 40s 904ms/step - loss: 0.1598 - accuracy: 0.9453 - val_loss: 0.2208 - val_accuracy: 0.9288\n",
            "Epoch 60/100\n",
            "44/44 [==============================] - 36s 835ms/step - loss: 0.1627 - accuracy: 0.9424 - val_loss: 0.2732 - val_accuracy: 0.9305\n",
            "Epoch 61/100\n",
            "44/44 [==============================] - 34s 761ms/step - loss: 0.1387 - accuracy: 0.9559 - val_loss: 0.2512 - val_accuracy: 0.9338\n",
            "Epoch 62/100\n",
            "44/44 [==============================] - 37s 855ms/step - loss: 0.1610 - accuracy: 0.9481 - val_loss: 0.2521 - val_accuracy: 0.9288\n",
            "Epoch 63/100\n",
            "44/44 [==============================] - 32s 722ms/step - loss: 0.1328 - accuracy: 0.9552 - val_loss: 0.3057 - val_accuracy: 0.9255\n",
            "Epoch 64/100\n",
            "44/44 [==============================] - 39s 897ms/step - loss: 0.1626 - accuracy: 0.9474 - val_loss: 0.3034 - val_accuracy: 0.9172\n",
            "Epoch 65/100\n",
            "44/44 [==============================] - 34s 773ms/step - loss: 0.1333 - accuracy: 0.9595 - val_loss: 0.3423 - val_accuracy: 0.9305\n",
            "Epoch 66/100\n",
            "44/44 [==============================] - 36s 813ms/step - loss: 0.1383 - accuracy: 0.9566 - val_loss: 0.2432 - val_accuracy: 0.9338\n",
            "Epoch 67/100\n",
            "44/44 [==============================] - 35s 802ms/step - loss: 0.1259 - accuracy: 0.9510 - val_loss: 0.2923 - val_accuracy: 0.9272\n",
            "Epoch 68/100\n",
            "44/44 [==============================] - 34s 776ms/step - loss: 0.1332 - accuracy: 0.9581 - val_loss: 0.3131 - val_accuracy: 0.9354\n",
            "Epoch 69/100\n",
            "44/44 [==============================] - 36s 823ms/step - loss: 0.1222 - accuracy: 0.9645 - val_loss: 0.3258 - val_accuracy: 0.9255\n",
            "Epoch 70/100\n",
            "44/44 [==============================] - 36s 822ms/step - loss: 0.1361 - accuracy: 0.9524 - val_loss: 0.3087 - val_accuracy: 0.9371\n",
            "Epoch 71/100\n",
            "44/44 [==============================] - 37s 853ms/step - loss: 0.1534 - accuracy: 0.9410 - val_loss: 0.2661 - val_accuracy: 0.9354\n",
            "Epoch 72/100\n",
            "44/44 [==============================] - 34s 786ms/step - loss: 0.1320 - accuracy: 0.9616 - val_loss: 0.2343 - val_accuracy: 0.9321\n",
            "Epoch 73/100\n",
            "44/44 [==============================] - 35s 782ms/step - loss: 0.1321 - accuracy: 0.9574 - val_loss: 0.2665 - val_accuracy: 0.9338\n",
            "Epoch 74/100\n",
            "44/44 [==============================] - 36s 814ms/step - loss: 0.1181 - accuracy: 0.9630 - val_loss: 0.3163 - val_accuracy: 0.9371\n",
            "Epoch 75/100\n",
            "44/44 [==============================] - 33s 744ms/step - loss: 0.1447 - accuracy: 0.9531 - val_loss: 0.2399 - val_accuracy: 0.9338\n",
            "Epoch 76/100\n",
            "44/44 [==============================] - 37s 845ms/step - loss: 0.1129 - accuracy: 0.9645 - val_loss: 0.3103 - val_accuracy: 0.9288\n",
            "Epoch 77/100\n",
            "44/44 [==============================] - 32s 732ms/step - loss: 0.1548 - accuracy: 0.9510 - val_loss: 0.2710 - val_accuracy: 0.9387\n",
            "Epoch 78/100\n",
            "44/44 [==============================] - 39s 893ms/step - loss: 0.1288 - accuracy: 0.9559 - val_loss: 0.3205 - val_accuracy: 0.9404\n",
            "Epoch 79/100\n",
            "44/44 [==============================] - 34s 783ms/step - loss: 0.1353 - accuracy: 0.9623 - val_loss: 0.3181 - val_accuracy: 0.9305\n",
            "Epoch 80/100\n",
            "44/44 [==============================] - 35s 787ms/step - loss: 0.1232 - accuracy: 0.9623 - val_loss: 0.2620 - val_accuracy: 0.9371\n",
            "Epoch 81/100\n",
            "44/44 [==============================] - 35s 807ms/step - loss: 0.1290 - accuracy: 0.9602 - val_loss: 0.2476 - val_accuracy: 0.9354\n",
            "Epoch 82/100\n",
            "44/44 [==============================] - 34s 757ms/step - loss: 0.1338 - accuracy: 0.9552 - val_loss: 0.2774 - val_accuracy: 0.9321\n",
            "Epoch 83/100\n",
            "44/44 [==============================] - 36s 834ms/step - loss: 0.1325 - accuracy: 0.9595 - val_loss: 0.2596 - val_accuracy: 0.9404\n",
            "Epoch 84/100\n",
            "44/44 [==============================] - 32s 717ms/step - loss: 0.1179 - accuracy: 0.9645 - val_loss: 0.2715 - val_accuracy: 0.9338\n",
            "Epoch 85/100\n",
            "44/44 [==============================] - 36s 834ms/step - loss: 0.1263 - accuracy: 0.9574 - val_loss: 0.2804 - val_accuracy: 0.9305\n",
            "Epoch 86/100\n",
            "44/44 [==============================] - 32s 714ms/step - loss: 0.1279 - accuracy: 0.9552 - val_loss: 0.2499 - val_accuracy: 0.9288\n",
            "Epoch 87/100\n",
            "44/44 [==============================] - 37s 841ms/step - loss: 0.1341 - accuracy: 0.9559 - val_loss: 0.2874 - val_accuracy: 0.9305\n",
            "Epoch 88/100\n",
            "44/44 [==============================] - 32s 732ms/step - loss: 0.1161 - accuracy: 0.9623 - val_loss: 0.2648 - val_accuracy: 0.9354\n",
            "Epoch 89/100\n",
            "44/44 [==============================] - 37s 851ms/step - loss: 0.0953 - accuracy: 0.9638 - val_loss: 0.2548 - val_accuracy: 0.9437\n",
            "Epoch 90/100\n",
            "44/44 [==============================] - 32s 726ms/step - loss: 0.1173 - accuracy: 0.9638 - val_loss: 0.3147 - val_accuracy: 0.9338\n",
            "Epoch 91/100\n",
            "44/44 [==============================] - 39s 892ms/step - loss: 0.1226 - accuracy: 0.9574 - val_loss: 0.2751 - val_accuracy: 0.9371\n",
            "Epoch 92/100\n",
            "44/44 [==============================] - 35s 794ms/step - loss: 0.1588 - accuracy: 0.9531 - val_loss: 0.2570 - val_accuracy: 0.9255\n",
            "Epoch 93/100\n",
            "44/44 [==============================] - 35s 792ms/step - loss: 0.1350 - accuracy: 0.9609 - val_loss: 0.2865 - val_accuracy: 0.9371\n",
            "Epoch 94/100\n",
            "44/44 [==============================] - 36s 827ms/step - loss: 0.1542 - accuracy: 0.9517 - val_loss: 0.2728 - val_accuracy: 0.9354\n",
            "Epoch 95/100\n",
            "44/44 [==============================] - 33s 754ms/step - loss: 0.1167 - accuracy: 0.9588 - val_loss: 0.3224 - val_accuracy: 0.9272\n",
            "Epoch 96/100\n",
            "44/44 [==============================] - 37s 847ms/step - loss: 0.1251 - accuracy: 0.9616 - val_loss: 0.2959 - val_accuracy: 0.9321\n",
            "Epoch 97/100\n",
            "44/44 [==============================] - 35s 791ms/step - loss: 0.0999 - accuracy: 0.9638 - val_loss: 0.2855 - val_accuracy: 0.9288\n",
            "Epoch 98/100\n",
            "44/44 [==============================] - 39s 879ms/step - loss: 0.1037 - accuracy: 0.9687 - val_loss: 0.2700 - val_accuracy: 0.9404\n",
            "Epoch 99/100\n",
            "44/44 [==============================] - 34s 786ms/step - loss: 0.1080 - accuracy: 0.9666 - val_loss: 0.3236 - val_accuracy: 0.9371\n",
            "Epoch 100/100\n",
            "44/44 [==============================] - 35s 785ms/step - loss: 0.0950 - accuracy: 0.9680 - val_loss: 0.3288 - val_accuracy: 0.9321\n"
          ]
        }
      ],
      "source": [
        "history=classifier.fit(train_data,train_target,shuffle=True,epochs=100,validation_split=0.3)"
      ]
    },
    {
      "cell_type": "code",
      "execution_count": null,
      "metadata": {
        "colab": {
          "base_uri": "https://localhost:8080/"
        },
        "id": "yA8ndJITR8aT",
        "outputId": "d7199257-6a6c-4dda-bee0-2fa3f86672ed"
      },
      "outputs": [
        {
          "name": "stdout",
          "output_type": "stream",
          "text": [
            "16/16 [==============================] - 4s 240ms/step - loss: 0.2390 - accuracy: 0.9344\n",
            "[0.23895233869552612, 0.9343936443328857]\n"
          ]
        }
      ],
      "source": [
        "print(classifier.evaluate(test_data,test_target))"
      ]
    },
    {
      "cell_type": "markdown",
      "metadata": {
        "id": "Ti3Qkqzjmjx0"
      },
      "source": []
    },
    {
      "cell_type": "code",
      "execution_count": null,
      "metadata": {
        "id": "CQDhNRJir5zY"
      },
      "outputs": [],
      "source": [
        "import matplotlib.pyplot as plt\n"
      ]
    },
    {
      "cell_type": "code",
      "execution_count": null,
      "metadata": {
        "id": "4pUUuu6HGIbm"
      },
      "outputs": [],
      "source": [
        "classifier.save('/content/drive/MyDrive/ASL/asl_classifier.h5')\n"
      ]
    },
    {
      "cell_type": "code",
      "execution_count": null,
      "metadata": {
        "colab": {
          "base_uri": "https://localhost:8080/",
          "height": 453
        },
        "id": "PwHPf14TsGm6",
        "outputId": "6d56018e-c89d-4f34-9976-7f8940531a87"
      },
      "outputs": [
        {
          "data": {
            "image/png": "[encoded data removed]",
            "text/plain": [
              "<Figure size 640x480 with 1 Axes>"
            ]
          },
          "metadata": {},
          "output_type": "display_data"
        }
      ],
      "source": [
        "plt.plot(history.history['accuracy'])\n",
        "plt.plot(history.history['val_accuracy'])\n",
        "plt.xlabel('epochs')\n",
        "plt.ylabel('Accuracy')\n",
        "plt.legend(['train_accuracy','val_accuracy'], loc=0)\n",
        "plt.show()"
      ]
    }
  ],
  "metadata": {
    "accelerator": "TPU",
    "colab": {
      "provenance": []
    },
    "kernelspec": {
      "display_name": "Python 3",
      "name": "python3"
    },
    "language_info": {
      "name": "python"
    }
  },
  "nbformat": 4,
  "nbformat_minor": 0
}
